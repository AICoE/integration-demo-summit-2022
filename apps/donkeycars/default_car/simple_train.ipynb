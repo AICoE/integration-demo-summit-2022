{
 "cells": [
  {
   "cell_type": "markdown",
   "id": "12d4f1ea",
   "metadata": {},
   "source": [
    "# Simple Train "
   ]
  },
  {
   "cell_type": "code",
   "execution_count": 1,
   "id": "8720b4e9-d3ba-4836-b4fd-22361c809aca",
   "metadata": {},
   "outputs": [
    {
     "name": "stdout",
     "output_type": "stream",
     "text": [
      "________             ______                   _________              \n",
      "___  __ \\_______________  /___________  __    __  ____/_____ ________\n",
      "__  / / /  __ \\_  __ \\_  //_/  _ \\_  / / /    _  /    _  __ `/_  ___/\n",
      "_  /_/ // /_/ /  / / /  ,<  /  __/  /_/ /     / /___  / /_/ /_  /    \n",
      "/_____/ \\____//_/ /_//_/|_| \\___/_\\__, /      \\____/  \\__,_/ /_/     \n",
      "                                 /____/                              \n",
      "\n",
      "using donkey v4.3.0-1 ...\n"
     ]
    }
   ],
   "source": [
    "import donkeycar as dk\n",
    "from donkeycar.pipeline.training import train"
   ]
  },
  {
   "cell_type": "code",
   "execution_count": 2,
   "id": "02373c2c-464b-4d65-b18c-fa9ae42ee5cb",
   "metadata": {},
   "outputs": [
    {
     "name": "stderr",
     "output_type": "stream",
     "text": [
      "INFO:donkeycar.utils:get_model_by_type: model type is: linear\n",
      "INFO:donkeycar.parts.keras:Created KerasLinear with interpreter: KerasInterpreter\n",
      "INFO:donkeycar.pipeline.types:Loading tubs from paths ['data/']\n"
     ]
    },
    {
     "name": "stdout",
     "output_type": "stream",
     "text": [
      "loading config file: config.py\n",
      "loading personal config over-rides from myconfig.py\n",
      "Model: \"linear\"\n",
      "__________________________________________________________________________________________________\n",
      " Layer (type)                   Output Shape         Param #     Connected to                     \n",
      "==================================================================================================\n",
      " img_in (InputLayer)            [(None, 120, 160, 3  0           []                               \n",
      "                                )]                                                                \n",
      "                                                                                                  \n",
      " conv2d_1 (Conv2D)              (None, 58, 78, 24)   1824        ['img_in[0][0]']                 \n",
      "                                                                                                  \n",
      " dropout (Dropout)              (None, 58, 78, 24)   0           ['conv2d_1[0][0]']               \n",
      "                                                                                                  \n",
      " conv2d_2 (Conv2D)              (None, 27, 37, 32)   19232       ['dropout[0][0]']                \n",
      "                                                                                                  \n",
      " dropout_1 (Dropout)            (None, 27, 37, 32)   0           ['conv2d_2[0][0]']               \n",
      "                                                                                                  \n",
      " conv2d_3 (Conv2D)              (None, 12, 17, 64)   51264       ['dropout_1[0][0]']              \n",
      "                                                                                                  \n",
      " dropout_2 (Dropout)            (None, 12, 17, 64)   0           ['conv2d_3[0][0]']               \n",
      "                                                                                                  \n",
      " conv2d_4 (Conv2D)              (None, 10, 15, 64)   36928       ['dropout_2[0][0]']              \n",
      "                                                                                                  \n",
      " dropout_3 (Dropout)            (None, 10, 15, 64)   0           ['conv2d_4[0][0]']               \n",
      "                                                                                                  \n",
      " conv2d_5 (Conv2D)              (None, 8, 13, 64)    36928       ['dropout_3[0][0]']              \n",
      "                                                                                                  \n",
      " dropout_4 (Dropout)            (None, 8, 13, 64)    0           ['conv2d_5[0][0]']               \n",
      "                                                                                                  \n",
      " flattened (Flatten)            (None, 6656)         0           ['dropout_4[0][0]']              \n",
      "                                                                                                  \n",
      " dense_1 (Dense)                (None, 100)          665700      ['flattened[0][0]']              \n",
      "                                                                                                  \n",
      " dropout_5 (Dropout)            (None, 100)          0           ['dense_1[0][0]']                \n",
      "                                                                                                  \n",
      " dense_2 (Dense)                (None, 50)           5050        ['dropout_5[0][0]']              \n",
      "                                                                                                  \n",
      " dropout_6 (Dropout)            (None, 50)           0           ['dense_2[0][0]']                \n",
      "                                                                                                  \n",
      " n_outputs0 (Dense)             (None, 1)            51          ['dropout_6[0][0]']              \n",
      "                                                                                                  \n",
      " n_outputs1 (Dense)             (None, 1)            51          ['dropout_6[0][0]']              \n",
      "                                                                                                  \n",
      "==================================================================================================\n",
      "Total params: 817,028\n",
      "Trainable params: 817,028\n",
      "Non-trainable params: 0\n",
      "__________________________________________________________________________________________________\n",
      "None\n",
      "Using catalog /opt/app-root/src/projects/summit-2021-octo-keynote/apps/donkeycars/default_car/data/catalog_34.catalog\n",
      "Records # Training 25776\n",
      "Records # Validation 6445\n",
      "Epoch 1/3\n",
      "202/202 [==============================] - ETA: 0s - loss: 0.2039 - n_outputs0_loss: 0.1824 - n_outputs1_loss: 0.0215\n",
      "Epoch 00001: val_loss improved from inf to 0.09805, saving model to /opt/app-root/src/projects/summit-2021-octo-keynote/apps/donkeycars/default_car/models/mypilot.h5\n",
      "202/202 [==============================] - 183s 898ms/step - loss: 0.2039 - n_outputs0_loss: 0.1824 - n_outputs1_loss: 0.0215 - val_loss: 0.0980 - val_n_outputs0_loss: 0.0851 - val_n_outputs1_loss: 0.0130\n",
      "Epoch 2/3\n",
      "202/202 [==============================] - ETA: 0s - loss: 0.0765 - n_outputs0_loss: 0.0619 - n_outputs1_loss: 0.0146\n",
      "Epoch 00002: val_loss improved from 0.09805 to 0.04295, saving model to /opt/app-root/src/projects/summit-2021-octo-keynote/apps/donkeycars/default_car/models/mypilot.h5\n",
      "202/202 [==============================] - 146s 724ms/step - loss: 0.0765 - n_outputs0_loss: 0.0619 - n_outputs1_loss: 0.0146 - val_loss: 0.0430 - val_n_outputs0_loss: 0.0357 - val_n_outputs1_loss: 0.0072\n",
      "Epoch 3/3\n",
      "202/202 [==============================] - ETA: 0s - loss: 0.0564 - n_outputs0_loss: 0.0456 - n_outputs1_loss: 0.0108\n",
      "Epoch 00003: val_loss improved from 0.04295 to 0.03962, saving model to /opt/app-root/src/projects/summit-2021-octo-keynote/apps/donkeycars/default_car/models/mypilot.h5\n",
      "202/202 [==============================] - 146s 723ms/step - loss: 0.0564 - n_outputs0_loss: 0.0456 - n_outputs1_loss: 0.0108 - val_loss: 0.0396 - val_n_outputs0_loss: 0.0327 - val_n_outputs1_loss: 0.0070\n"
     ]
    },
    {
     "name": "stderr",
     "output_type": "stream",
     "text": [
      "INFO:donkeycar.parts.interpreter:Convert model /opt/app-root/src/projects/summit-2021-octo-keynote/apps/donkeycars/default_car/models/mypilot.h5 to TFLite /opt/app-root/src/projects/summit-2021-octo-keynote/apps/donkeycars/default_car/models/mypilot.tflite\n",
      "INFO:tensorflow:Assets written to: /tmp/tmpsawno0io/assets\n",
      "WARNING:absl:Buffer deduplication procedure will be skipped when flatbuffer library is not properly loaded\n",
      "INFO:donkeycar.parts.interpreter:TFLite conversion done.\n"
     ]
    },
    {
     "data": {
      "text/plain": [
       "<keras.callbacks.History at 0x7fdd4808d100>"
      ]
     },
     "execution_count": 2,
     "metadata": {},
     "output_type": "execute_result"
    },
    {
     "data": {
      "image/png": "[encoded data removed]",
      "text/plain": [
       "<Figure size 432x288 with 1 Axes>"
      ]
     },
     "metadata": {
      "needs_background": "light"
     },
     "output_type": "display_data"
    }
   ],
   "source": [
    "cfg = dk.load_config(config_path=\"config.py\")\n",
    "tubs = \"data/\"\n",
    "model = \"models/mypilot.h5\"\n",
    "model_type = \"linear\"\n",
    "train(cfg, tubs, model, model_type)\n"
   ]
  },
  {
   "cell_type": "code",
   "execution_count": null,
   "id": "156b3b03-f53b-413d-bed4-1c7407a3e84f",
   "metadata": {},
   "outputs": [],
   "source": []
  }
 ],
 "metadata": {
  "kernelspec": {
   "display_name": "Python 3",
   "language": "python",
   "name": "python3"
  },
  "language_info": {
   "codemirror_mode": {
    "name": "ipython",
    "version": 3
   },
   "file_extension": ".py",
   "mimetype": "text/x-python",
   "name": "python",
   "nbconvert_exporter": "python",
   "pygments_lexer": "ipython3",
   "version": "3.8.3"
  }
 },
 "nbformat": 4,
 "nbformat_minor": 5
}
